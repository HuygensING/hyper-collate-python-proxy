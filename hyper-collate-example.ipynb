{
 "cells": [
  {
   "cell_type": "code",
   "execution_count": 1,
   "metadata": {},
   "outputs": [],
   "source": [
    "from hypercollate import HyperCollateClient\n",
    "\n",
    "hc = HyperCollateClient(\"http://127.0.0.1:8080\")"
   ]
  },
  {
   "cell_type": "code",
   "execution_count": 2,
   "metadata": {},
   "outputs": [
    {
     "data": {
      "text/plain": [
       "{'appName': 'HyperCollate Server',\n",
       " 'buildDate': '2018-02-13T10:04:36Z',\n",
       " 'commitId': '656505dd2daefb90a902d7b32b72d7668422a0a8',\n",
       " 'dotRendering': True,\n",
       " 'projectDirURI': 'file:/C:/Users/bramb/.hypercollate/',\n",
       " 'scmBranch': 'develop',\n",
       " 'startedAt': '2018-02-13T10:08:05.966Z',\n",
       " 'version': '1.0-SNAPSHOT'}"
      ]
     },
     "execution_count": 2,
     "metadata": {},
     "output_type": "execute_result"
    }
   ],
   "source": [
    "hc.about()"
   ]
  },
  {
   "cell_type": "code",
   "execution_count": 3,
   "metadata": {},
   "outputs": [
    {
     "data": {
      "text/plain": [
       "['http://127.0.0.1:8080/collations/c1', 'http://127.0.0.1:8080/collations/c2']"
      ]
     },
     "execution_count": 3,
     "metadata": {},
     "output_type": "execute_result"
    }
   ],
   "source": [
    "result=hc.list_collations()\n",
    "result"
   ]
  },
  {
   "cell_type": "code",
   "execution_count": 4,
   "metadata": {},
   "outputs": [
    {
     "data": {
      "text/html": [
       "\n",
       "        <iframe\n",
       "            width=\"950\"\n",
       "            height=\"300\"\n",
       "            src=\"http://127.0.0.1:8080/collations/c1.png\"\n",
       "            frameborder=\"0\"\n",
       "            allowfullscreen\n",
       "        ></iframe>\n",
       "        "
      ],
      "text/plain": [
       "<IPython.lib.display.IFrame at 0x8e26c30>"
      ]
     },
     "metadata": {},
     "output_type": "display_data"
    },
    {
     "data": {
      "text/html": [
       "<a href=\"http://127.0.0.1:8080/collations/c1.png\" target=\"_new\" >open in new tab</a>"
      ],
      "text/plain": [
       "<IPython.core.display.HTML object>"
      ]
     },
     "metadata": {},
     "output_type": "display_data"
    }
   ],
   "source": [
    "c1=hc.get_collation('c1')\n",
    "c1.show_as_png()"
   ]
  },
  {
   "cell_type": "code",
   "execution_count": 5,
   "metadata": {},
   "outputs": [
    {
     "data": {
      "text/plain": [
       "{'^ascii_table': 'http://127.0.0.1:8080/collations/c1/ascii_table',\n",
       " '^dot': 'http://127.0.0.1:8080/collations/c1.dot',\n",
       " '^png': 'http://127.0.0.1:8080/collations/c1.png',\n",
       " '^svg': 'http://127.0.0.1:8080/collations/c1.svg',\n",
       " 'collationDurationInMilliseconds': 136,\n",
       " 'collationState': 'is_collated',\n",
       " 'created': '2018-01-30T09:25:16.735Z',\n",
       " 'id': 'c1',\n",
       " 'join': True,\n",
       " 'modified': '2018-02-13T10:31:56.485Z',\n",
       " 'witnesses': {'x': '<x>bla bla bla</x>', 'y': '<x>bla bal bla</x>'}}"
      ]
     },
     "execution_count": 5,
     "metadata": {},
     "output_type": "execute_result"
    }
   ],
   "source": [
    "c1.get_info()"
   ]
  },
  {
   "cell_type": "code",
   "execution_count": 6,
   "metadata": {},
   "outputs": [
    {
     "name": "stdout",
     "output_type": "stream",
     "text": [
      "{'id': 'c2', 'created': '2018-02-13T10:48:19.058Z', 'modified': '2018-02-13T10:48:19.108Z', 'witnesses': {'A': '<xml>a black dog</xml>', 'B': '<xml>a brown cat</xml>'}, 'collationState': 'ready_to_collate', 'join': True, '^png': 'http://127.0.0.1:8080/collations/c2.png', '^svg': 'http://127.0.0.1:8080/collations/c2.svg', '^dot': 'http://127.0.0.1:8080/collations/c2.dot', '^ascii_table': 'http://127.0.0.1:8080/collations/c2/ascii_table'}\n",
      "┌───┬──┬─────────┐\r\n",
      "│[A]│a │black dog│\r\n",
      "├───┼──┼─────────┤\r\n",
      "│[B]│a │brown cat│\r\n",
      "└───┴──┴─────────┘\n"
     ]
    }
   ],
   "source": [
    "hc.delete_collation('c2')\n",
    "c2 = hc.add_collation('c2')\n",
    "c2.add_witness_from_xml_text('A','<xml>a black dog</xml>')\n",
    "c2.add_witness_from_xml_text('B','<xml>a brown cat</xml>')\n",
    "print(c2.get_info())\n",
    "print(c2.get_ascii_table())\n"
   ]
  },
  {
   "cell_type": "code",
   "execution_count": 7,
   "metadata": {},
   "outputs": [
    {
     "data": {
      "text/html": [
       "\n",
       "        <iframe\n",
       "            width=\"950\"\n",
       "            height=\"300\"\n",
       "            src=\"http://127.0.0.1:8080/collations/c1/witnesses/y.svg?emphasize-whitespace=true\"\n",
       "            frameborder=\"0\"\n",
       "            allowfullscreen\n",
       "        ></iframe>\n",
       "        "
      ],
      "text/plain": [
       "<IPython.lib.display.IFrame at 0x81d73b0>"
      ]
     },
     "metadata": {},
     "output_type": "display_data"
    },
    {
     "data": {
      "text/html": [
       "<a href=\"http://127.0.0.1:8080/collations/c1/witnesses/y.svg?emphasize-whitespace=true\" target=\"_new\" >open in new tab</a>"
      ],
      "text/plain": [
       "<IPython.core.display.HTML object>"
      ]
     },
     "metadata": {},
     "output_type": "display_data"
    },
    {
     "data": {
      "text/html": [
       "\n",
       "        <iframe\n",
       "            width=\"950\"\n",
       "            height=\"300\"\n",
       "            src=\"http://127.0.0.1:8080/collations/c1/witnesses/y.png\"\n",
       "            frameborder=\"0\"\n",
       "            allowfullscreen\n",
       "        ></iframe>\n",
       "        "
      ],
      "text/plain": [
       "<IPython.lib.display.IFrame at 0x6694a30>"
      ]
     },
     "metadata": {},
     "output_type": "display_data"
    },
    {
     "data": {
      "text/html": [
       "<a href=\"http://127.0.0.1:8080/collations/c1/witnesses/y.png\" target=\"_new\" >open in new tab</a>"
      ],
      "text/plain": [
       "<IPython.core.display.HTML object>"
      ]
     },
     "metadata": {},
     "output_type": "display_data"
    }
   ],
   "source": [
    "x = c1.get_witness('y')\n",
    "\n",
    "x.show_as_svg(emphasize_whitespace=True)\n",
    "x.show_as_png()"
   ]
  }
 ],
 "metadata": {
  "kernelspec": {
   "display_name": "Python 3",
   "language": "python",
   "name": "python3"
  },
  "language_info": {
   "codemirror_mode": {
    "name": "ipython",
    "version": 3
   },
   "file_extension": ".py",
   "mimetype": "text/x-python",
   "name": "python",
   "nbconvert_exporter": "python",
   "pygments_lexer": "ipython3",
   "version": "3.6.1"
  }
 },
 "nbformat": 4,
 "nbformat_minor": 1
}
