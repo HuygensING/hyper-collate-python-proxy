{
 "cells": [
  {
   "cell_type": "code",
   "execution_count": 1,
   "metadata": {
    "collapsed": true
   },
   "outputs": [],
   "source": [
    "from hypercollate import HyperCollateClient\n",
    "\n",
    "hc = HyperCollateClient(\"http://127.0.0.1:8080\")"
   ]
  },
  {
   "cell_type": "code",
   "execution_count": 2,
   "metadata": {},
   "outputs": [
    {
     "data": {
      "text/plain": [
       "{'appName': 'HyperCollate Server',\n",
       " 'buildDate': '2018-02-01T16:27:37Z',\n",
       " 'commitId': '24895939c529d5cc8e3821f1da1e929ab69b7719',\n",
       " 'projectDir': 'C:\\\\Users\\\\bramb\\\\.hypercollate',\n",
       " 'scmBranch': 'develop',\n",
       " 'startedAt': '2018-02-02T09:10:41.810Z',\n",
       " 'version': '1.0-SNAPSHOT'}"
      ]
     },
     "execution_count": 2,
     "metadata": {},
     "output_type": "execute_result"
    }
   ],
   "source": [
    "hc.about()"
   ]
  },
  {
   "cell_type": "code",
   "execution_count": 3,
   "metadata": {},
   "outputs": [
    {
     "data": {
      "text/plain": [
       "['http://127.0.0.1:8080/collations/a',\n",
       " 'http://127.0.0.1:8080/collations/b',\n",
       " 'http://127.0.0.1:8080/collations/c2',\n",
       " 'http://127.0.0.1:8080/collations/order',\n",
       " 'http://127.0.0.1:8080/collations/order2',\n",
       " 'http://127.0.0.1:8080/collations/structure',\n",
       " 'http://127.0.0.1:8080/collations/structure2']"
      ]
     },
     "execution_count": 3,
     "metadata": {},
     "output_type": "execute_result"
    }
   ],
   "source": [
    "result=hc.list_collations()\n",
    "result"
   ]
  },
  {
   "cell_type": "code",
   "execution_count": 4,
   "metadata": {},
   "outputs": [
    {
     "data": {
      "text/plain": [
       "<hypercollate.collation_proxy.CollationProxy at 0x7bcde48>"
      ]
     },
     "execution_count": 4,
     "metadata": {},
     "output_type": "execute_result"
    }
   ],
   "source": [
    "c1=hc.get_collation('a')\n",
    "c1"
   ]
  },
  {
   "cell_type": "code",
   "execution_count": 5,
   "metadata": {},
   "outputs": [
    {
     "data": {
      "text/plain": [
       "{'^ascii_table': 'http://127.0.0.1:8080/collations/a/ascii_table',\n",
       " '^dot': 'http://127.0.0.1:8080/collations/a/dot',\n",
       " 'collationDurationInMilliseconds': 67,\n",
       " 'collationState': 'ready_to_collate',\n",
       " 'created': '2018-01-29T15:14:33.759Z',\n",
       " 'id': 'a',\n",
       " 'join': True,\n",
       " 'modified': '2018-01-29T16:38:10.741Z',\n",
       " 'witnesses': {'w1': '<x>a</x>',\n",
       "  'w2': '<x>cat</x>',\n",
       "  'w3': '<x>tekst met <del>del</del><add>add</add> tags</x>'}}"
      ]
     },
     "execution_count": 5,
     "metadata": {},
     "output_type": "execute_result"
    }
   ],
   "source": [
    "c1.get_info()"
   ]
  },
  {
   "cell_type": "code",
   "execution_count": 6,
   "metadata": {},
   "outputs": [
    {
     "name": "stdout",
     "output_type": "stream",
     "text": [
      "{'id': 'c2', 'created': '2018-02-01T15:54:47.539Z', 'modified': '2018-02-02T09:12:26.832Z', 'witnesses': {'A': '<xml>a black dog</xml>', 'B': '<xml>a brown cat</xml>'}, 'collationState': 'ready_to_collate', 'join': True, '^ascii_table': 'http://127.0.0.1:8080/collations/c2/ascii_table', '^dot': 'http://127.0.0.1:8080/collations/c2/dot'}\n",
      "┌───┬──┬─────────┐\r\n",
      "│[A]│a_│black_dog│\r\n",
      "├───┼──┼─────────┤\r\n",
      "│[B]│a_│brown_cat│\r\n",
      "└───┴──┴─────────┘\n"
     ]
    }
   ],
   "source": [
    "c2 = hc.add_collation('c2')\n",
    "c2.add_witness_from_xml_text('A','<xml>a black dog</xml>')\n",
    "c2.add_witness_from_xml_text('B','<xml>a brown cat</xml>')\n",
    "print(c2.get_info())\n",
    "print(c2.get_ascii_table())\n"
   ]
  }
 ],
 "metadata": {
  "kernelspec": {
   "display_name": "Python 3",
   "language": "python",
   "name": "python3"
  },
  "language_info": {
   "codemirror_mode": {
    "name": "ipython",
    "version": 3
   },
   "file_extension": ".py",
   "mimetype": "text/x-python",
   "name": "python",
   "nbconvert_exporter": "python",
   "pygments_lexer": "ipython3",
   "version": "3.6.2"
  }
 },
 "nbformat": 4,
 "nbformat_minor": 1
}
