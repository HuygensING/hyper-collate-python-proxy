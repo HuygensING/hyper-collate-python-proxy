{
 "cells": [
  {
   "cell_type": "code",
   "execution_count": 1,
   "metadata": {
    "collapsed": true
   },
   "outputs": [],
   "source": [
    "from hypercollate import HyperCollateClient\n",
    "\n",
    "hc = HyperCollateClient(\"http://127.0.0.1:8080\")"
   ]
  },
  {
   "cell_type": "code",
   "execution_count": 2,
   "metadata": {},
   "outputs": [
    {
     "data": {
      "text/plain": [
       "{'appName': 'HyperCollate Server',\n",
       " 'buildDate': '2018-02-13T15:04:13Z',\n",
       " 'commitId': '7290dcbbfb3f4ec38e0371435abd6a6247611f12',\n",
       " 'dotRendering': True,\n",
       " 'projectDirURI': 'file:/C:/Users/bramb/.hypercollate/',\n",
       " 'scmBranch': 'develop',\n",
       " 'startedAt': '2018-02-13T15:05:56.249Z',\n",
       " 'version': '1.0-SNAPSHOT'}"
      ]
     },
     "execution_count": 2,
     "metadata": {},
     "output_type": "execute_result"
    }
   ],
   "source": [
    "hc.about()"
   ]
  },
  {
   "cell_type": "code",
   "execution_count": 3,
   "metadata": {},
   "outputs": [
    {
     "data": {
      "text/plain": [
       "['http://127.0.0.1:8080/collations/c1', 'http://127.0.0.1:8080/collations/c2']"
      ]
     },
     "execution_count": 3,
     "metadata": {},
     "output_type": "execute_result"
    }
   ],
   "source": [
    "hc.list_collations()"
   ]
  },
  {
   "cell_type": "code",
   "execution_count": 4,
   "metadata": {},
   "outputs": [
    {
     "data": {
      "text/html": [
       "\n",
       "        <iframe\n",
       "            width=\"950\"\n",
       "            height=\"300\"\n",
       "            src=\"http://127.0.0.1:8080/collations/c1.svg\"\n",
       "            frameborder=\"0\"\n",
       "            allowfullscreen\n",
       "        ></iframe>\n",
       "        "
      ],
      "text/plain": [
       "<IPython.lib.display.IFrame at 0x82a9c90>"
      ]
     },
     "metadata": {},
     "output_type": "display_data"
    },
    {
     "data": {
      "text/html": [
       "<a href=\"http://127.0.0.1:8080/collations/c1.svg\" target=\"_new\" >open in new tab</a>"
      ],
      "text/plain": [
       "<IPython.core.display.HTML object>"
      ]
     },
     "metadata": {},
     "output_type": "display_data"
    }
   ],
   "source": [
    "c1=hc.get_collation('c1')\n",
    "c1.show_as_svg()"
   ]
  },
  {
   "cell_type": "code",
   "execution_count": 5,
   "metadata": {},
   "outputs": [
    {
     "data": {
      "text/plain": [
       "{'^ascii_table': 'http://127.0.0.1:8080/collations/c1/ascii_table',\n",
       " '^dot': 'http://127.0.0.1:8080/collations/c1.dot',\n",
       " '^png': 'http://127.0.0.1:8080/collations/c1.png',\n",
       " '^svg': 'http://127.0.0.1:8080/collations/c1.svg',\n",
       " 'collationDurationInMilliseconds': 101,\n",
       " 'collationState': 'is_collated',\n",
       " 'created': '2018-01-30T09:25:16.735Z',\n",
       " 'id': 'c1',\n",
       " 'join': True,\n",
       " 'modified': '2018-02-13T15:07:04.597Z',\n",
       " 'witnesses': {'x': '<x>bla bla bla</x>', 'y': '<x>bla bal bla</x>'}}"
      ]
     },
     "execution_count": 5,
     "metadata": {},
     "output_type": "execute_result"
    }
   ],
   "source": [
    "c1.get_info()"
   ]
  },
  {
   "cell_type": "code",
   "execution_count": 6,
   "metadata": {},
   "outputs": [
    {
     "data": {
      "text/plain": [
       "{'^ascii_table': 'http://127.0.0.1:8080/collations/c2/ascii_table',\n",
       " '^dot': 'http://127.0.0.1:8080/collations/c2.dot',\n",
       " '^png': 'http://127.0.0.1:8080/collations/c2.png',\n",
       " '^svg': 'http://127.0.0.1:8080/collations/c2.svg',\n",
       " 'collationState': 'ready_to_collate',\n",
       " 'created': '2018-02-13T16:19:28.703Z',\n",
       " 'id': 'c2',\n",
       " 'join': True,\n",
       " 'modified': '2018-02-13T16:19:28.760Z',\n",
       " 'witnesses': {'A': '<p><s>&amp; himself corrected <add>and augmented</add> them</s></p>',\n",
       "  'B': '<p><s>and then himself corrected and augmented them</s></p>'}}"
      ]
     },
     "execution_count": 6,
     "metadata": {},
     "output_type": "execute_result"
    }
   ],
   "source": [
    "hc.delete_collation('c2')\n",
    "c2 = hc.add_collation('c2')\n",
    "c2.add_witness_from_xml_text('A','<p><s>&amp; himself corrected <add>and augmented</add> them</s></p>')\n",
    "c2.add_witness_from_xml_text('B','<p><s>and then himself corrected and augmented them</s></p>')\n",
    "\n",
    "c2.get_info()\n"
   ]
  },
  {
   "cell_type": "code",
   "execution_count": 7,
   "metadata": {},
   "outputs": [
    {
     "name": "stdout",
     "output_type": "stream",
     "text": [
      "┌───┬─────────┬──────────────────┬─────────────────┬─┬────┐\r\n",
      "│[A]│&        │himself corrected │[+] and augmented│ │them│\r\n",
      "├───┼─────────┼──────────────────┼─────────────────┼─┼────┤\r\n",
      "│[B]│and then │himself corrected │and augmented    │ │them│\r\n",
      "└───┴─────────┴──────────────────┴─────────────────┴─┴────┘\n"
     ]
    }
   ],
   "source": [
    "print(c2.get_ascii_table())"
   ]
  },
  {
   "cell_type": "code",
   "execution_count": 8,
   "metadata": {},
   "outputs": [
    {
     "name": "stdout",
     "output_type": "stream",
     "text": [
      "┌───┬─────────┬──────────────────┬─────────────────┬─┬────┐\r\n",
      "│[A]│&_       │himself_corrected_│[+] and_augmented│_│them│\r\n",
      "├───┼─────────┼──────────────────┼─────────────────┼─┼────┤\r\n",
      "│[B]│and_then_│himself_corrected_│and_augmented_   │ │them│\r\n",
      "└───┴─────────┴──────────────────┴─────────────────┴─┴────┘\n"
     ]
    }
   ],
   "source": [
    "print(c2.get_ascii_table(True))"
   ]
  },
  {
   "cell_type": "code",
   "execution_count": 9,
   "metadata": {},
   "outputs": [
    {
     "data": {
      "text/html": [
       "\n",
       "        <iframe\n",
       "            width=\"950\"\n",
       "            height=\"300\"\n",
       "            src=\"http://127.0.0.1:8080/collations/c2/witnesses/A.svg?emphasize-whitespace=true\"\n",
       "            frameborder=\"0\"\n",
       "            allowfullscreen\n",
       "        ></iframe>\n",
       "        "
      ],
      "text/plain": [
       "<IPython.lib.display.IFrame at 0x82a9df0>"
      ]
     },
     "metadata": {},
     "output_type": "display_data"
    },
    {
     "data": {
      "text/html": [
       "<a href=\"http://127.0.0.1:8080/collations/c2/witnesses/A.svg?emphasize-whitespace=true\" target=\"_new\" >open in new tab</a>"
      ],
      "text/plain": [
       "<IPython.core.display.HTML object>"
      ]
     },
     "metadata": {},
     "output_type": "display_data"
    },
    {
     "name": "stdout",
     "output_type": "stream",
     "text": [
      "digraph VariantWitnessGraph{\n",
      "graph [rankdir=LR]\n",
      "node [style=\"filled\";fillcolor=\"white\"]\n",
      "begin [label=\"\";shape=doublecircle,rank=middle]\n",
      "subgraph cluster_0 {\n",
      "label=<<i><b>p</b></i>>\n",
      "graph[style=\"rounded,filled\";fillcolor=\"yellow\"]\n",
      "subgraph cluster_1 {\n",
      "label=<<i><b>s</b></i>>\n",
      "graph[style=\"rounded,filled\";fillcolor=\"orange\"]\n",
      "A_000 [label=<&amp;>]\n",
      "A_001 [label=<&nbsp;>]\n",
      "A_002 [label=<himself&nbsp;>]\n",
      "A_003 [label=<corrected&nbsp;>]\n",
      "subgraph cluster_2 {\n",
      "label=<<i><b>add</b></i>>\n",
      "graph[style=\"rounded,filled\";fillcolor=\"#9aed7d\"]\n",
      "A_004 [label=<and&nbsp;>]\n",
      "}\n",
      "A_006 [label=<&nbsp;>]\n",
      "subgraph cluster_3 {\n",
      "label=<<i><b>add</b></i>>\n",
      "graph[style=\"rounded,filled\";fillcolor=\"#9aed7d\"]\n",
      "A_005 [label=<augmented>]\n",
      "}\n",
      "A_007 [label=<them>]\n",
      "}\n",
      "}\n",
      "end [label=\"\";shape=doublecircle,rank=middle]\n",
      "A_000->A_001\n",
      "A_001->A_002\n",
      "A_002->A_003\n",
      "A_003->A_004\n",
      "A_003->A_006\n",
      "A_004->A_005\n",
      "A_005->A_006\n",
      "A_006->A_007\n",
      "A_007->end\n",
      "begin->A_000\n",
      "}\n"
     ]
    }
   ],
   "source": [
    "a = c2.get_witness('A')\n",
    "a.show_as_svg(emphasize_whitespace=True)\n",
    "print(a.get_dot())\n"
   ]
  },
  {
   "cell_type": "code",
   "execution_count": 10,
   "metadata": {},
   "outputs": [
    {
     "data": {
      "text/html": [
       "\n",
       "        <iframe\n",
       "            width=\"950\"\n",
       "            height=\"300\"\n",
       "            src=\"http://127.0.0.1:8080/collations/c2/witnesses/B.png\"\n",
       "            frameborder=\"0\"\n",
       "            allowfullscreen\n",
       "        ></iframe>\n",
       "        "
      ],
      "text/plain": [
       "<IPython.lib.display.IFrame at 0x82a9c90>"
      ]
     },
     "metadata": {},
     "output_type": "display_data"
    },
    {
     "data": {
      "text/html": [
       "<a href=\"http://127.0.0.1:8080/collations/c2/witnesses/B.png\" target=\"_new\" >open in new tab</a>"
      ],
      "text/plain": [
       "<IPython.core.display.HTML object>"
      ]
     },
     "metadata": {},
     "output_type": "display_data"
    }
   ],
   "source": [
    "b = c2.get_witness('B')\n",
    "b.show_as_png()"
   ]
  }
 ],
 "metadata": {
  "kernelspec": {
   "display_name": "Python 3",
   "language": "python",
   "name": "python3"
  },
  "language_info": {
   "codemirror_mode": {
    "name": "ipython",
    "version": 3
   },
   "file_extension": ".py",
   "mimetype": "text/x-python",
   "name": "python",
   "nbconvert_exporter": "python",
   "pygments_lexer": "ipython3",
   "version": "3.6.1"
  }
 },
 "nbformat": 4,
 "nbformat_minor": 1
}
