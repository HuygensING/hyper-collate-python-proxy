{
 "cells": [
  {
   "cell_type": "code",
   "execution_count": 8,
   "metadata": {},
   "outputs": [
    {
     "name": "stdout",
     "output_type": "stream",
     "text": [
      "['http://127.0.0.1:8080/collations/c1']\n"
     ]
    }
   ],
   "source": [
    "from __future__ import print_function\n",
    "\n",
    "import time\n",
    "\n",
    "import swagger_client\n",
    "\n",
    "from swagger_client.rest import ApiException\n",
    "\n",
    "from pprint import pprint\n",
    "\n",
    "\n",
    "\n",
    "# create an instance of the API class\n",
    "\n",
    "api_instance = swagger_client.CollationsApi()\n",
    "\n",
    "\n",
    "\n",
    "try:\n",
    "\n",
    "    # List all collation names\n",
    "\n",
    "    api_response = api_instance.get_collation_names()\n",
    "\n",
    "    pprint(api_response)\n",
    "\n",
    "except ApiException as e:\n",
    "\n",
    "    print(\"Exception when calling CollationsApi->get_collation_names: %s\\n\" % e)"
   ]
  },
  {
   "cell_type": "code",
   "execution_count": 7,
   "metadata": {},
   "outputs": [
    {
     "name": "stdout",
     "output_type": "stream",
     "text": [
      "<bound method CollationsApi.get_collation_names of <swagger_client.api.collations_api.CollationsApi object at 0x08B34B50>>\n"
     ]
    }
   ],
   "source": [
    "api_response=api_instance.get_collation_names\n",
    "pprint(api_response)\n"
   ]
  },
  {
   "cell_type": "code",
   "execution_count": null,
   "metadata": {
    "collapsed": true
   },
   "outputs": [],
   "source": []
  }
 ],
 "metadata": {
  "kernelspec": {
   "display_name": "Python 3",
   "language": "python",
   "name": "python3"
  },
  "language_info": {
   "codemirror_mode": {
    "name": "ipython",
    "version": 3
   },
   "file_extension": ".py",
   "mimetype": "text/x-python",
   "name": "python",
   "nbconvert_exporter": "python",
   "pygments_lexer": "ipython3",
   "version": "3.6.1"
  }
 },
 "nbformat": 4,
 "nbformat_minor": 2
}
